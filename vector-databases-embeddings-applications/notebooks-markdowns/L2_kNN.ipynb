{
 "cells": [
  {
   "cell_type": "markdown",
   "id": "fe548d4c-0ae6-4490-85e9-9a08b324e523",
   "metadata": {},
   "source": [
    "# K Nearest Neighbors"
   ]
  },
  {
   "cell_type": "code",
   "execution_count": 1,
   "id": "1dffa51f",
   "metadata": {
    "height": 97
   },
   "outputs": [],
   "source": [
    "import numpy as np\n",
    "import matplotlib.pyplot as plt\n",
    "from sklearn.neighbors import NearestNeighbors\n",
    "import time\n",
    "np.random.seed(42)"
   ]
  },
  {
   "cell_type": "code",
   "execution_count": 2,
   "id": "c6507163-f256-4969-b39a-42e4fe87e16e",
   "metadata": {
    "height": 46
   },
   "outputs": [],
   "source": [
    "# Generate 20 data points with 2 dimensions\n",
    "X = np.random.rand(20,2)"
   ]
  },
  {
   "cell_type": "code",
   "execution_count": 3,
   "id": "0d57be60-f38c-40ec-9a79-6abe351ff8e1",
   "metadata": {
    "height": 165
   },
   "outputs": [
    {
     "data": {
      "image/png": "[encoded data removed]",
      "text/plain": [
       "<Figure size 432x288 with 1 Axes>"
      ]
     },
     "metadata": {
      "needs_background": "light"
     },
     "output_type": "display_data"
    }
   ],
   "source": [
    "# Display Embeddings\n",
    "n = range(len(X))\n",
    "\n",
    "fig, ax = plt.subplots()\n",
    "ax.scatter(X[:,0], X[:,1], label='Embeddings')\n",
    "ax.legend()\n",
    "\n",
    "for i, txt in enumerate(n):\n",
    "    ax.annotate(txt, (X[i,0], X[i,1]))"
   ]
  },
  {
   "cell_type": "code",
   "execution_count": 4,
   "id": "f7607bd1-41e2-4f8b-9c25-9deba45c1bc4",
   "metadata": {
    "height": 80
   },
   "outputs": [
    {
     "data": {
      "text/html": [
       "<style>#sk-container-id-1 {color: black;}#sk-container-id-1 pre{padding: 0;}#sk-container-id-1 div.sk-toggleable {background-color: white;}#sk-container-id-1 label.sk-toggleable__label {cursor: pointer;display: block;width: 100%;margin-bottom: 0;padding: 0.3em;box-sizing: border-box;text-align: center;}#sk-container-id-1 label.sk-toggleable__label-arrow:before {content: \"▸\";float: left;margin-right: 0.25em;color: #696969;}#sk-container-id-1 label.sk-toggleable__label-arrow:hover:before {color: black;}#sk-container-id-1 div.sk-estimator:hover label.sk-toggleable__label-arrow:before {color: black;}#sk-container-id-1 div.sk-toggleable__content {max-height: 0;max-width: 0;overflow: hidden;text-align: left;background-color: #f0f8ff;}#sk-container-id-1 div.sk-toggleable__content pre {margin: 0.2em;color: black;border-radius: 0.25em;background-color: #f0f8ff;}#sk-container-id-1 input.sk-toggleable__control:checked~div.sk-toggleable__content {max-height: 200px;max-width: 100%;overflow: auto;}#sk-container-id-1 input.sk-toggleable__control:checked~label.sk-toggleable__label-arrow:before {content: \"▾\";}#sk-container-id-1 div.sk-estimator input.sk-toggleable__control:checked~label.sk-toggleable__label {background-color: #d4ebff;}#sk-container-id-1 div.sk-label input.sk-toggleable__control:checked~label.sk-toggleable__label {background-color: #d4ebff;}#sk-container-id-1 input.sk-hidden--visually {border: 0;clip: rect(1px 1px 1px 1px);clip: rect(1px, 1px, 1px, 1px);height: 1px;margin: -1px;overflow: hidden;padding: 0;position: absolute;width: 1px;}#sk-container-id-1 div.sk-estimator {font-family: monospace;background-color: #f0f8ff;border: 1px dotted black;border-radius: 0.25em;box-sizing: border-box;margin-bottom: 0.5em;}#sk-container-id-1 div.sk-estimator:hover {background-color: #d4ebff;}#sk-container-id-1 div.sk-parallel-item::after {content: \"\";width: 100%;border-bottom: 1px solid gray;flex-grow: 1;}#sk-container-id-1 div.sk-label:hover label.sk-toggleable__label {background-color: #d4ebff;}#sk-container-id-1 div.sk-serial::before {content: \"\";position: absolute;border-left: 1px solid gray;box-sizing: border-box;top: 0;bottom: 0;left: 50%;z-index: 0;}#sk-container-id-1 div.sk-serial {display: flex;flex-direction: column;align-items: center;background-color: white;padding-right: 0.2em;padding-left: 0.2em;position: relative;}#sk-container-id-1 div.sk-item {position: relative;z-index: 1;}#sk-container-id-1 div.sk-parallel {display: flex;align-items: stretch;justify-content: center;background-color: white;position: relative;}#sk-container-id-1 div.sk-item::before, #sk-container-id-1 div.sk-parallel-item::before {content: \"\";position: absolute;border-left: 1px solid gray;box-sizing: border-box;top: 0;bottom: 0;left: 50%;z-index: -1;}#sk-container-id-1 div.sk-parallel-item {display: flex;flex-direction: column;z-index: 1;position: relative;background-color: white;}#sk-container-id-1 div.sk-parallel-item:first-child::after {align-self: flex-end;width: 50%;}#sk-container-id-1 div.sk-parallel-item:last-child::after {align-self: flex-start;width: 50%;}#sk-container-id-1 div.sk-parallel-item:only-child::after {width: 0;}#sk-container-id-1 div.sk-dashed-wrapped {border: 1px dashed gray;margin: 0 0.4em 0.5em 0.4em;box-sizing: border-box;padding-bottom: 0.4em;background-color: white;}#sk-container-id-1 div.sk-label label {font-family: monospace;font-weight: bold;display: inline-block;line-height: 1.2em;}#sk-container-id-1 div.sk-label-container {text-align: center;}#sk-container-id-1 div.sk-container {/* jupyter's `normalize.less` sets `[hidden] { display: none; }` but bootstrap.min.css set `[hidden] { display: none !important; }` so we also need the `!important` here to be able to override the default hidden behavior on the sphinx rendered scikit-learn.org. See: https://github.com/scikit-learn/scikit-learn/issues/21755 */display: inline-block !important;position: relative;}#sk-container-id-1 div.sk-text-repr-fallback {display: none;}</style><div id=\"sk-container-id-1\" class=\"sk-top-container\"><div class=\"sk-text-repr-fallback\"><pre>NearestNeighbors(algorithm=&#x27;brute&#x27;, metric=&#x27;euclidean&#x27;, n_neighbors=4)</pre><b>In a Jupyter environment, please rerun this cell to show the HTML representation or trust the notebook. <br />On GitHub, the HTML representation is unable to render, please try loading this page with nbviewer.org.</b></div><div class=\"sk-container\" hidden><div class=\"sk-item\"><div class=\"sk-estimator sk-toggleable\"><input class=\"sk-toggleable__control sk-hidden--visually\" id=\"sk-estimator-id-1\" type=\"checkbox\" checked><label for=\"sk-estimator-id-1\" class=\"sk-toggleable__label sk-toggleable__label-arrow\">NearestNeighbors</label><div class=\"sk-toggleable__content\"><pre>NearestNeighbors(algorithm=&#x27;brute&#x27;, metric=&#x27;euclidean&#x27;, n_neighbors=4)</pre></div></div></div></div></div>"
      ],
      "text/plain": [
       "NearestNeighbors(algorithm='brute', metric='euclidean', n_neighbors=4)"
      ]
     },
     "execution_count": 4,
     "metadata": {},
     "output_type": "execute_result"
    }
   ],
   "source": [
    "k = 4\n",
    "\n",
    "neigh = NearestNeighbors(n_neighbors=k, algorithm='brute', metric='euclidean')\n",
    "neigh.fit(X)"
   ]
  },
  {
   "cell_type": "code",
   "execution_count": 5,
   "id": "0dfb6e89-cfb6-4ef3-a5b9-b8ba65cfe7b1",
   "metadata": {
    "height": 182
   },
   "outputs": [
    {
     "data": {
      "image/png": "[encoded data removed]",
      "text/plain": [
       "<Figure size 432x288 with 1 Axes>"
      ]
     },
     "metadata": {
      "needs_background": "light"
     },
     "output_type": "display_data"
    }
   ],
   "source": [
    "# Display Query with data\n",
    "n = range(len(X))\n",
    "\n",
    "fig, ax = plt.subplots()\n",
    "ax.scatter(X[:,0], X[:,1])\n",
    "ax.scatter(0.45,0.2, c='red',label='Query')\n",
    "ax.legend()\n",
    "\n",
    "for i, txt in enumerate(n):\n",
    "    ax.annotate(txt, (X[i,0], X[i,1]))"
   ]
  },
  {
   "cell_type": "code",
   "execution_count": 6,
   "id": "cd20c13b-c830-47fc-9bde-824b81607ebc",
   "metadata": {
    "height": 46
   },
   "outputs": [
    {
     "name": "stdout",
     "output_type": "stream",
     "text": [
      "(array([[0.09299859, 0.16027853, 0.1727928 , 0.17778682]]), array([[ 9, 15, 10, 18]]))\n"
     ]
    }
   ],
   "source": [
    "neighbours = neigh.kneighbors([[0.45,0.2]], k, return_distance=True)\n",
    "print(neighbours)"
   ]
  },
  {
   "cell_type": "code",
   "execution_count": 7,
   "id": "31e7e76f-f26e-46a5-9778-8e1aa46e18b5",
   "metadata": {
    "height": 114
   },
   "outputs": [
    {
     "name": "stdout",
     "output_type": "stream",
     "text": [
      "Runtime:  0.0138 seconds\n"
     ]
    }
   ],
   "source": [
    "t0 = time.time()\n",
    "neighbours = neigh.kneighbors([[0.45,0.2]], k, return_distance=True)\n",
    "t1 = time.time()\n",
    "\n",
    "query_time = t1-t0\n",
    "print(f\"Runtime: {query_time: .4f} seconds\")"
   ]
  },
  {
   "cell_type": "code",
   "execution_count": 8,
   "id": "b4827c91-797a-469d-9679-1dbba2e864d1",
   "metadata": {
    "height": 318
   },
   "outputs": [],
   "source": [
    "def speed_test(count):\n",
    "    # generate random objects\n",
    "    data = np.random.rand(count,2)\n",
    "    \n",
    "    # prepare brute force index\n",
    "    k=4\n",
    "    neigh = NearestNeighbors(n_neighbors=k, algorithm='brute', metric='euclidean')\n",
    "    neigh.fit(data)\n",
    "\n",
    "    # measure time for a brute force query\n",
    "    t0 = time.time()\n",
    "    neighbours = neigh.kneighbors([[0.45,0.2]], k, return_distance=True)\n",
    "    t1 = time.time()\n",
    "\n",
    "    total_time = t1-t0\n",
    "    print (f\"Runtime: {total_time: .4f}\")\n",
    "\n",
    "    return total_time"
   ]
  },
  {
   "cell_type": "code",
   "execution_count": 9,
   "id": "cae5ed6a-9fb8-4fc3-85c6-b9eff573ad5a",
   "metadata": {
    "height": 29
   },
   "outputs": [
    {
     "name": "stdout",
     "output_type": "stream",
     "text": [
      "Runtime:  0.0075\n"
     ]
    }
   ],
   "source": [
    "time20k = speed_test(20_000)"
   ]
  },
  {
   "cell_type": "code",
   "execution_count": 10,
   "id": "1f114314-b875-40b0-be81-bae6b1762765",
   "metadata": {
    "height": 97
   },
   "outputs": [
    {
     "name": "stdout",
     "output_type": "stream",
     "text": [
      "Runtime:  0.0030\n",
      "Runtime:  0.0117\n",
      "Runtime:  0.1021\n",
      "Runtime:  1.0360\n"
     ]
    }
   ],
   "source": [
    "# Brute force examples\n",
    "time200k = speed_test(200_000)\n",
    "time2m = speed_test(2_000_000)\n",
    "time20m = speed_test(20_000_000)\n",
    "time200m = speed_test(200_000_000)"
   ]
  },
  {
   "cell_type": "code",
   "execution_count": 18,
   "id": "8dac48f9",
   "metadata": {},
   "outputs": [
    {
     "data": {
      "image/png": "[encoded data removed]",
      "text/plain": [
       "<Figure size 432x288 with 1 Axes>"
      ]
     },
     "metadata": {
      "needs_background": "light"
     },
     "output_type": "display_data"
    }
   ],
   "source": [
    "import matplotlib.pyplot as plt\n",
    "\n",
    "x = [200000,2000000, 20000000, 200000000]\n",
    "y = [time200k,time2m,time20m,time200m]\n",
    "\n",
    "plt.plot(x,y, 'o-r')\n",
    "plt.ylabel('Time taken in ms')\n",
    "plt.xlabel('No of Objects')\n",
    "plt.show()"
   ]
  },
  {
   "cell_type": "markdown",
   "id": "1760c511-c422-42dc-a41c-b125623a8619",
   "metadata": {},
   "source": [
    "## Brute force kNN implemented by hand on `768` dimensional embeddings"
   ]
  },
  {
   "cell_type": "code",
   "execution_count": 11,
   "id": "d140b5d1-e110-4a42-9e3c-00beab03694d",
   "metadata": {
    "height": 148
   },
   "outputs": [],
   "source": [
    "documents = 1000\n",
    "dimensions = 768\n",
    "\n",
    "embeddings = np.random.randn(documents, dimensions) # 1000 documents, 768-dimensional embeddings\n",
    "embeddings = embeddings / np.sqrt((embeddings**2).sum(1, keepdims=True)) # L2 normalize the rows, as is common\n",
    "\n",
    "query = np.random.randn(768) # the query vector\n",
    "query = query / np.sqrt((query**2).sum()) # normalize query"
   ]
  },
  {
   "cell_type": "code",
   "execution_count": 12,
   "id": "e8cfca36-3b4e-4103-bae1-98939b48c78c",
   "metadata": {
    "height": 250
   },
   "outputs": [
    {
     "name": "stdout",
     "output_type": "stream",
     "text": [
      "Runtime for dim=768, documents_n=1000: 0.022 seconds\n",
      "Top 5 results:\n",
      "Point: 434, Similarity: 0.11658853328636032\n",
      "Point: 41, Similarity: 0.1031952360388021\n",
      "Point: 677, Similarity: 0.09041193794869376\n",
      "Point: 13, Similarity: 0.0856056395158937\n",
      "Point: 438, Similarity: 0.08410763673528121\n"
     ]
    }
   ],
   "source": [
    "# kNN\n",
    "t0 = time.time()\n",
    "# Calculate Dot Product between the query and all data items\n",
    "similarities = embeddings.dot(query)\n",
    "# Sort results\n",
    "sorted_ix = np.argsort(-similarities)\n",
    "t1 = time.time()\n",
    "\n",
    "total = t1-t0\n",
    "print(f\"Runtime for dim={dimensions}, documents_n={documents}: {np.round(total,3)} seconds\")\n",
    "\n",
    "print(\"Top 5 results:\")\n",
    "for k in sorted_ix[:5]:\n",
    "    print(f\"Point: {k}, Similarity: {similarities[k]}\")"
   ]
  },
  {
   "cell_type": "code",
   "execution_count": 13,
   "id": "51493604-ca06-4129-a026-007b6ecbb478",
   "metadata": {
    "height": 233
   },
   "outputs": [
    {
     "name": "stdout",
     "output_type": "stream",
     "text": [
      "Runtime for 1 query with dim=768, documents_n=1000: 0.0 seconds\n",
      "Runtime for 1 query with dim=768, documents_n=10000: 0.001 seconds\n",
      "Runtime for 1 query with dim=768, documents_n=100000: 0.018 seconds\n",
      "Runtime for 1 query with dim=768, documents_n=500000: 0.107 seconds\n"
     ]
    }
   ],
   "source": [
    "n_runs = [1_000, 10_000, 100_000, 500_000]\n",
    "\n",
    "for n in n_runs:\n",
    "    embeddings = np.random.randn(n, dimensions) #768-dimensional embeddings\n",
    "    query = np.random.randn(768) # the query vector\n",
    "    \n",
    "    t0 = time.time()\n",
    "    similarities = embeddings.dot(query)\n",
    "    sorted_ix = np.argsort(-similarities)\n",
    "    t1 = time.time()\n",
    "\n",
    "    total = t1-t0\n",
    "    print(f\"Runtime for 1 query with dim={dimensions}, documents_n={n}: {np.round(total,3)} seconds\")"
   ]
  },
  {
   "cell_type": "code",
   "execution_count": 14,
   "id": "9748863e-5640-42c4-8223-3d0897867c58",
   "metadata": {
    "height": 29
   },
   "outputs": [
    {
     "name": "stdout",
     "output_type": "stream",
     "text": [
      "To run 1,000 queries:  1.78 minutes\n"
     ]
    }
   ],
   "source": [
    "print (f\"To run 1,000 queries: {total * 1_000/60 : .2f} minutes\")"
   ]
  },
  {
   "cell_type": "code",
   "execution_count": null,
   "id": "deeba5ab-f767-44ac-8c37-47a46f26f1f4",
   "metadata": {
    "height": 29
   },
   "outputs": [],
   "source": []
  },
  {
   "cell_type": "code",
   "execution_count": null,
   "id": "c1d6eb5a-7eef-49db-94c2-4f81085aa319",
   "metadata": {
    "height": 29
   },
   "outputs": [],
   "source": []
  },
  {
   "cell_type": "code",
   "execution_count": null,
   "id": "ef1d12f2-f4d5-4bea-9268-f3d38de1d01d",
   "metadata": {
    "height": 29
   },
   "outputs": [],
   "source": []
  },
  {
   "cell_type": "code",
   "execution_count": null,
   "id": "f67c4fb3-56a4-4b5e-b3e6-e8517a9958b8",
   "metadata": {
    "height": 29
   },
   "outputs": [],
   "source": []
  },
  {
   "cell_type": "code",
   "execution_count": null,
   "id": "e49f3e52-32ad-46d8-9222-e17db1822ead",
   "metadata": {
    "height": 29
   },
   "outputs": [],
   "source": []
  },
  {
   "cell_type": "code",
   "execution_count": null,
   "id": "27b08d45-4c19-4123-b0f5-948785810347",
   "metadata": {
    "height": 29
   },
   "outputs": [],
   "source": []
  },
  {
   "cell_type": "code",
   "execution_count": null,
   "id": "4fe5c54c-f7ba-43dd-a9e2-006f180d19b8",
   "metadata": {
    "height": 29
   },
   "outputs": [],
   "source": []
  },
  {
   "cell_type": "code",
   "execution_count": null,
   "id": "d2f19487-55fe-4fd8-8895-d0fbd9d408fa",
   "metadata": {
    "height": 29
   },
   "outputs": [],
   "source": []
  },
  {
   "cell_type": "code",
   "execution_count": null,
   "id": "e14c073d-f51d-4229-bb18-bf2ca33b6a45",
   "metadata": {
    "height": 29
   },
   "outputs": [],
   "source": []
  },
  {
   "cell_type": "code",
   "execution_count": null,
   "id": "136a9eaa-f548-419b-a280-f75fc0035c4b",
   "metadata": {
    "height": 29
   },
   "outputs": [],
   "source": []
  },
  {
   "cell_type": "code",
   "execution_count": null,
   "id": "daee8bd2-2a65-40c1-a644-abb59f8ea5a3",
   "metadata": {
    "height": 29
   },
   "outputs": [],
   "source": []
  },
  {
   "cell_type": "code",
   "execution_count": null,
   "id": "e32b66c0-3522-4aea-ab08-f29ef5138169",
   "metadata": {
    "height": 29
   },
   "outputs": [],
   "source": []
  },
  {
   "cell_type": "code",
   "execution_count": null,
   "id": "d069b75f-6549-475b-bbb4-40c0a93e01b4",
   "metadata": {
    "height": 29
   },
   "outputs": [],
   "source": []
  },
  {
   "cell_type": "code",
   "execution_count": null,
   "id": "dbd4335f-f2d1-4725-a4c0-6a12f79530ee",
   "metadata": {
    "height": 29
   },
   "outputs": [],
   "source": []
  },
  {
   "cell_type": "code",
   "execution_count": null,
   "id": "1c6a0e14-34d6-4c6b-9ee6-8f3e72547dae",
   "metadata": {
    "height": 29
   },
   "outputs": [],
   "source": []
  }
 ],
 "metadata": {
  "kernelspec": {
   "display_name": "Python 3",
   "language": "python",
   "name": "python3"
  },
  "language_info": {
   "codemirror_mode": {
    "name": "ipython",
    "version": 3
   },
   "file_extension": ".py",
   "mimetype": "text/x-python",
   "name": "python",
   "nbconvert_exporter": "python",
   "pygments_lexer": "ipython3",
   "version": "3.9.12"
  }
 },
 "nbformat": 4,
 "nbformat_minor": 5
}
