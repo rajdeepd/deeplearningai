{
 "cells": [
  {
   "cell_type": "code",
   "execution_count": 1,
   "id": "136c2a66-d6ca-47a0-bb60-bd938f8453fa",
   "metadata": {},
   "outputs": [],
   "source": [
    "import re\n",
    "\n",
    "def case_insensitive_search_and_replace(file_path, search_word, replace_word):\n",
    "   with open(file_path, 'r') as file:\n",
    "      file_contents = file.read()\n",
    "\n",
    "      pattern = re.compile(re.escape(search_word), re.IGNORECASE)\n",
    "      updated_contents = pattern.sub(replace_word, file_contents)\n",
    "\n",
    "   with open(file_path, 'w') as file:\n",
    "      file.write(updated_contents)\n",
    "\n",
    "# Example usage\n",
    "file_path = './data/indian_budget_speech_2024.txt'\n",
    "search_word = '\\n'\n",
    "replace_word = ' '\n",
    "case_insensitive_search_and_replace(file_path, search_word, replace_word)"
   ]
  },
  {
   "cell_type": "code",
   "execution_count": null,
   "id": "cb298d2f-76d4-41a5-8ef8-b1bba8c5439d",
   "metadata": {},
   "outputs": [],
   "source": []
  }
 ],
 "metadata": {
  "kernelspec": {
   "display_name": "envjan2025",
   "language": "python",
   "name": "envjan2025"
  },
  "language_info": {
   "codemirror_mode": {
    "name": "ipython",
    "version": 3
   },
   "file_extension": ".py",
   "mimetype": "text/x-python",
   "name": "python",
   "nbconvert_exporter": "python",
   "pygments_lexer": "ipython3",
   "version": "3.10.8"
  }
 },
 "nbformat": 4,
 "nbformat_minor": 5
}
