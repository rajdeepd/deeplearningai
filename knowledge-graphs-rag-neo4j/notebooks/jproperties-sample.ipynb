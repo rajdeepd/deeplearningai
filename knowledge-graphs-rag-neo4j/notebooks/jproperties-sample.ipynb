{
 "cells": [
  {
   "cell_type": "code",
   "execution_count": 3,
   "id": "76b1666c-8bfe-4aaf-a039-59d2e59c3716",
   "metadata": {},
   "outputs": [
    {
     "name": "stdout",
     "output_type": "stream",
     "text": [
      "Collecting jproperties\n",
      "  Using cached jproperties-2.1.2-py2.py3-none-any.whl.metadata (8.7 kB)\n",
      "Requirement already satisfied: six~=1.13 in /Users/rdua/work/github/rajdeepd/deeplearningai/knowledge-graphs-rag-neo4j/envjan2025/lib/python3.10/site-packages (from jproperties) (1.17.0)\n",
      "Using cached jproperties-2.1.2-py2.py3-none-any.whl (17 kB)\n",
      "Installing collected packages: jproperties\n",
      "Successfully installed jproperties-2.1.2\n",
      "\n",
      "\u001b[1m[\u001b[0m\u001b[34;49mnotice\u001b[0m\u001b[1;39;49m]\u001b[0m\u001b[39;49m A new release of pip is available: \u001b[0m\u001b[31;49m24.2\u001b[0m\u001b[39;49m -> \u001b[0m\u001b[32;49m24.3.1\u001b[0m\n",
      "\u001b[1m[\u001b[0m\u001b[34;49mnotice\u001b[0m\u001b[1;39;49m]\u001b[0m\u001b[39;49m To update, run: \u001b[0m\u001b[32;49mpip install --upgrade pip\u001b[0m\n"
     ]
    }
   ],
   "source": [
    "!pip install jproperties"
   ]
  },
  {
   "cell_type": "code",
   "execution_count": 5,
   "id": "bcda1676-3677-4185-9049-9849ce6049ce",
   "metadata": {},
   "outputs": [
    {
     "name": "stdout",
     "output_type": "stream",
     "text": [
      "sk-proj-wu\n",
      "12\n"
     ]
    }
   ],
   "source": [
    "from jproperties import Properties\n",
    "\n",
    "p = Properties()\n",
    "with open(\"openai.properties\", \"rb\") as f:\n",
    "    p.load(f, \"utf-8\")\n",
    "\n",
    "\n",
    "print(p[\"OPENAI_API_KEY\"].data[:10])\n",
    "print(p[\"NEO4J_PWD\"].data[:2])"
   ]
  },
  {
   "cell_type": "code",
   "execution_count": null,
   "id": "49f723e4-c88f-40b1-a073-493a30494220",
   "metadata": {},
   "outputs": [],
   "source": []
  }
 ],
 "metadata": {
  "kernelspec": {
   "display_name": "envjan2025",
   "language": "python",
   "name": "envjan2025"
  },
  "language_info": {
   "codemirror_mode": {
    "name": "ipython",
    "version": 3
   },
   "file_extension": ".py",
   "mimetype": "text/x-python",
   "name": "python",
   "nbconvert_exporter": "python",
   "pygments_lexer": "ipython3",
   "version": "3.10.8"
  }
 },
 "nbformat": 4,
 "nbformat_minor": 5
}
