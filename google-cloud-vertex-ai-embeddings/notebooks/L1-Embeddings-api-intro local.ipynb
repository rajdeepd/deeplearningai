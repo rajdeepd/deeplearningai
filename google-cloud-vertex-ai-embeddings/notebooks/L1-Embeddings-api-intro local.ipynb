{
 "cells": [
  {
   "cell_type": "code",
   "execution_count": null,
   "id": "543ac386",
   "metadata": {},
   "outputs": [],
   "source": [
    "#! gcloud config list"
   ]
  },
  {
   "cell_type": "code",
   "execution_count": 1,
   "id": "05cbb09b",
   "metadata": {},
   "outputs": [
    {
     "name": "stdout",
     "output_type": "stream",
     "text": [
      "Updated property [core/project].\r\n"
     ]
    }
   ],
   "source": [
    "PROJECT_ID = \"text-embeddings-414713\"  # @param {type:\"string\"}\n",
    "\n",
    "# Set the project id\n",
    "! gcloud config set project {PROJECT_ID}"
   ]
  },
  {
   "cell_type": "code",
   "execution_count": 2,
   "id": "0da473c8",
   "metadata": {},
   "outputs": [],
   "source": [
    "LOCATION = \"us-central1\""
   ]
  },
  {
   "cell_type": "code",
   "execution_count": 3,
   "id": "e9963882",
   "metadata": {},
   "outputs": [
    {
     "name": "stdout",
     "output_type": "stream",
     "text": [
      "Your browser has been opened to visit:\n",
      "\n",
      "    https://accounts.google.com/o/oauth2/auth?response_type=code&client_id=32555940559.apps.googleusercontent.com&redirect_uri=http%3A%2F%2Flocalhost%3A8085%2F&scope=openid+https%3A%2F%2Fwww.googleapis.com%2Fauth%2Fuserinfo.email+https%3A%2F%2Fwww.googleapis.com%2Fauth%2Fcloud-platform+https%3A%2F%2Fwww.googleapis.com%2Fauth%2Fappengine.admin+https%3A%2F%2Fwww.googleapis.com%2Fauth%2Fsqlservice.login+https%3A%2F%2Fwww.googleapis.com%2Fauth%2Fcompute+https%3A%2F%2Fwww.googleapis.com%2Fauth%2Faccounts.reauth&state=AogwXi66Bsv5Dtt6DWcWd1MfTaS3HK&access_type=offline&code_challenge=fkF3l5V5ypfOK3S8iiXbGqYP9eCHIN5nlXOIk2r3S8c&code_challenge_method=S256\n",
      "\n",
      "\n",
      "You are now logged in as [rajdeep.dua@gmail.com].\n",
      "Your current project is [text-embeddings-414713].  You can change this setting by running:\n",
      "  $ gcloud config set project PROJECT_ID\n"
     ]
    }
   ],
   "source": [
    "! gcloud auth login"
   ]
  },
  {
   "cell_type": "code",
   "execution_count": 4,
   "id": "6adadeb6",
   "metadata": {},
   "outputs": [],
   "source": [
    "BUCKET_URI = f\"gs://text-embedding-samples-{PROJECT_ID}-unique\""
   ]
  },
  {
   "cell_type": "code",
   "execution_count": 7,
   "id": "87dcbd8d",
   "metadata": {},
   "outputs": [],
   "source": [
    "from vertexai.preview.language_models import TextEmbeddingModel\n",
    "\n",
    "embedding_model = TextEmbeddingModel.from_pretrained(\"textembedding-gecko@001\")"
   ]
  },
  {
   "cell_type": "code",
   "execution_count": 8,
   "id": "1ee67df3",
   "metadata": {},
   "outputs": [],
   "source": [
    "embedding = embedding_model.get_embeddings(\n",
    "    [\"life\"])"
   ]
  },
  {
   "cell_type": "code",
   "execution_count": 9,
   "id": "e3c85b3e",
   "metadata": {},
   "outputs": [
    {
     "name": "stdout",
     "output_type": "stream",
     "text": [
      "Length = 768\n",
      "[-0.006005102302879095, 0.015532972291111946, -0.030447669327259064, 0.05322219058871269, 0.014444807544350624, -0.0542873740196228, 0.045140113681554794, 0.02127358317375183, -0.06537645310163498, 0.019103270024061203]\n"
     ]
    }
   ],
   "source": [
    "vector = embedding[0].values\n",
    "print(f\"Length = {len(vector)}\")\n",
    "print(vector[:10])"
   ]
  },
  {
   "cell_type": "code",
   "execution_count": 10,
   "id": "d866dc7a",
   "metadata": {},
   "outputs": [],
   "source": [
    "from sklearn.metrics.pairwise import cosine_similarity"
   ]
  },
  {
   "cell_type": "code",
   "execution_count": 11,
   "id": "ccec6128",
   "metadata": {},
   "outputs": [],
   "source": [
    "emb_1 = embedding_model.get_embeddings(\n",
    "    [\"What is the meaning of life?\"]) # 42!\n",
    "\n",
    "emb_2 = embedding_model.get_embeddings(\n",
    "    [\"How does one spend their time well on Earth?\"])\n",
    "\n",
    "emb_3 = embedding_model.get_embeddings(\n",
    "    [\"Would you like a salad?\"])\n",
    "\n",
    "vec_1 = [emb_1[0].values]\n",
    "vec_2 = [emb_2[0].values]\n",
    "vec_3 = [emb_3[0].values]"
   ]
  },
  {
   "cell_type": "code",
   "execution_count": 12,
   "id": "fd7bea3c",
   "metadata": {},
   "outputs": [
    {
     "name": "stdout",
     "output_type": "stream",
     "text": [
      "[[0.65503744]]\n",
      "[[0.52001556]]\n",
      "[[0.54139322]]\n"
     ]
    }
   ],
   "source": [
    "print(cosine_similarity(vec_1,vec_2)) \n",
    "print(cosine_similarity(vec_2,vec_3))\n",
    "print(cosine_similarity(vec_1,vec_3))"
   ]
  },
  {
   "cell_type": "code",
   "execution_count": 13,
   "id": "60d4dad9",
   "metadata": {},
   "outputs": [],
   "source": [
    "in_1 = \"The kids play in the park.\"\n",
    "in_2 = \"The play was for kids in the park.\""
   ]
  },
  {
   "cell_type": "code",
   "execution_count": 14,
   "id": "99832842",
   "metadata": {},
   "outputs": [],
   "source": [
    "in_pp_1 = [\"kids\", \"play\", \"park\"]\n",
    "in_pp_2 = [\"play\", \"kids\", \"park\"]"
   ]
  },
  {
   "cell_type": "code",
   "execution_count": 15,
   "id": "adf16164",
   "metadata": {},
   "outputs": [],
   "source": [
    "embeddings_1 = [emb.values for emb in embedding_model.get_embeddings(in_pp_1)]"
   ]
  },
  {
   "cell_type": "code",
   "execution_count": 16,
   "id": "3e79ecf4",
   "metadata": {},
   "outputs": [
    {
     "name": "stdout",
     "output_type": "stream",
     "text": [
      "(3, 768)\n"
     ]
    }
   ],
   "source": [
    "import numpy as np\n",
    "emb_array_1 = np.stack(embeddings_1)\n",
    "print(emb_array_1.shape)"
   ]
  },
  {
   "cell_type": "code",
   "execution_count": 17,
   "id": "7fd91ede",
   "metadata": {},
   "outputs": [
    {
     "name": "stdout",
     "output_type": "stream",
     "text": [
      "(3, 768)\n"
     ]
    }
   ],
   "source": [
    "embeddings_2 = [emb.values for emb in embedding_model.get_embeddings(in_pp_2)]\n",
    "emb_array_2 = np.stack(embeddings_2)\n",
    "print(emb_array_2.shape)"
   ]
  },
  {
   "cell_type": "code",
   "execution_count": 18,
   "id": "3576b310",
   "metadata": {},
   "outputs": [
    {
     "name": "stdout",
     "output_type": "stream",
     "text": [
      "(768,)\n"
     ]
    }
   ],
   "source": [
    "emb_1_mean = emb_array_1.mean(axis = 0) \n",
    "print(emb_1_mean.shape)"
   ]
  },
  {
   "cell_type": "code",
   "execution_count": 19,
   "id": "8532dd19",
   "metadata": {},
   "outputs": [],
   "source": [
    "emb_2_mean = emb_array_2.mean(axis = 0)"
   ]
  },
  {
   "cell_type": "code",
   "execution_count": 20,
   "id": "66dba5b5",
   "metadata": {},
   "outputs": [
    {
     "name": "stdout",
     "output_type": "stream",
     "text": [
      "[-0.00385805 -0.00522636  0.00574341  0.03331106]\n",
      "[-0.00385805 -0.00522636  0.00574341  0.03331106]\n"
     ]
    }
   ],
   "source": [
    "print(emb_1_mean[:4])\n",
    "print(emb_2_mean[:4])"
   ]
  },
  {
   "cell_type": "markdown",
   "id": "1c7c0920",
   "metadata": {},
   "source": [
    "#### Get sentence embeddings from the model.\n",
    "- These sentence embeddings account for word order and context.\n",
    "- Verify that the sentence embeddings are not the same."
   ]
  },
  {
   "cell_type": "code",
   "execution_count": 21,
   "id": "f488c4fe",
   "metadata": {},
   "outputs": [
    {
     "name": "stdout",
     "output_type": "stream",
     "text": [
      "The kids play in the park.\n",
      "The play was for kids in the park.\n"
     ]
    }
   ],
   "source": [
    "print(in_1)\n",
    "print(in_2)"
   ]
  },
  {
   "cell_type": "code",
   "execution_count": 22,
   "id": "f3bfbc26",
   "metadata": {},
   "outputs": [],
   "source": [
    "embedding_1 = embedding_model.get_embeddings([in_1])\n",
    "embedding_2 = embedding_model.get_embeddings([in_2])"
   ]
  },
  {
   "cell_type": "code",
   "execution_count": 23,
   "id": "ce187aad",
   "metadata": {},
   "outputs": [
    {
     "name": "stdout",
     "output_type": "stream",
     "text": [
      "[0.0039385221898555756, -0.020830577239394188, -0.002994248876348138, -0.007580515928566456]\n",
      "[-0.01565515622496605, -0.012884826399385929, 0.01229254249483347, -0.0005865463172085583]\n"
     ]
    }
   ],
   "source": [
    "vector_1 = embedding_1[0].values\n",
    "print(vector_1[:4])\n",
    "vector_2 = embedding_2[0].values\n",
    "print(vector_2[:4])"
   ]
  },
  {
   "cell_type": "code",
   "execution_count": null,
   "id": "3a7b5113",
   "metadata": {},
   "outputs": [],
   "source": []
  }
 ],
 "metadata": {
  "kernelspec": {
   "display_name": "Python 3",
   "language": "python",
   "name": "python3"
  },
  "language_info": {
   "codemirror_mode": {
    "name": "ipython",
    "version": 3
   },
   "file_extension": ".py",
   "mimetype": "text/x-python",
   "name": "python",
   "nbconvert_exporter": "python",
   "pygments_lexer": "ipython3",
   "version": "3.9.12"
  }
 },
 "nbformat": 4,
 "nbformat_minor": 5
}
