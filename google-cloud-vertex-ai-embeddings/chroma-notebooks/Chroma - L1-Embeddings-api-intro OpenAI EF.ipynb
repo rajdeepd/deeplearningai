{
 "cells": [
  {
   "cell_type": "code",
   "execution_count": 1,
   "id": "aa1fdbb6",
   "metadata": {},
   "outputs": [],
   "source": [
    "import chromadb\n",
    "import os"
   ]
  },
  {
   "cell_type": "code",
   "execution_count": 9,
   "id": "c416e16a",
   "metadata": {},
   "outputs": [],
   "source": [
    "import chromadb.utils.embedding_functions as embedding_functions\n",
    "openai_ef = embedding_functions.OpenAIEmbeddingFunction(\n",
    "                api_key=os.environ['OPENAI_API_KEY'],\n",
    "                model_name=\"text-embedding-3-small\"\n",
    "            )"
   ]
  },
  {
   "cell_type": "code",
   "execution_count": 10,
   "id": "b96bec47",
   "metadata": {},
   "outputs": [
    {
     "name": "stdout",
     "output_type": "stream",
     "text": [
      "1536\n"
     ]
    }
   ],
   "source": [
    "val = openai_ef([\"foo\"])\n",
    "print(len(val[0]))"
   ]
  },
  {
   "cell_type": "markdown",
   "id": "6df3a628",
   "metadata": {},
   "source": [
    "#### Similarity\n",
    "\n",
    "- Calculate the similarity between two sentences as a number between 0 and 1.\n",
    "- Try out your own sentences and check if the similarity calculations match your intuition."
   ]
  },
  {
   "cell_type": "code",
   "execution_count": 7,
   "id": "cf8f249c",
   "metadata": {},
   "outputs": [],
   "source": [
    "emb_1 = openai_ef(\n",
    "    [\"What is the meaning of life?\"]) # 42!\n",
    "\n",
    "emb_2 = openai_ef(\n",
    "    [\"How does one spend their time well on Earth?\"])\n",
    "\n",
    "emb_3 = openai_ef(\n",
    "    [\"Would you like a salad?\"])\n",
    "\n",
    "vec_1 = [emb_1[0]]\n",
    "vec_2 = [emb_2[0]]\n",
    "vec_3 = [emb_3[0]]"
   ]
  },
  {
   "cell_type": "code",
   "execution_count": 8,
   "id": "3e79058f",
   "metadata": {},
   "outputs": [
    {
     "name": "stdout",
     "output_type": "stream",
     "text": [
      "[[0.32097587]]\n",
      "[[0.09112601]]\n",
      "[[0.08831037]]\n"
     ]
    }
   ],
   "source": [
    "from sklearn.metrics.pairwise import cosine_similarity\n",
    "\n",
    "print(cosine_similarity(vec_1,vec_2)) \n",
    "print(cosine_similarity(vec_2,vec_3))\n",
    "print(cosine_similarity(vec_1,vec_3))"
   ]
  },
  {
   "cell_type": "markdown",
   "id": "39c57644",
   "metadata": {},
   "source": [
    "### From word to sentence embeddings\n",
    "One possible way to calculate sentence embeddings from word embeddings is to take the average of the word embeddings.\n",
    "This ignores word order and context, so two sentences with different meanings, but the same set of words will end up with the same sentence embedding."
   ]
  },
  {
   "cell_type": "code",
   "execution_count": null,
   "id": "08b3782b",
   "metadata": {},
   "outputs": [],
   "source": [
    "in_1 = \"The kids play in the park.\"\n",
    "in_2 = \"The play was for kids in the park.\""
   ]
  },
  {
   "cell_type": "code",
   "execution_count": null,
   "id": "dfe9f11d",
   "metadata": {},
   "outputs": [],
   "source": [
    "in_pp_1 = [\"kids\", \"play\", \"park\"]\n",
    "in_pp_2 = [\"play\", \"kids\", \"park\"]"
   ]
  },
  {
   "cell_type": "code",
   "execution_count": null,
   "id": "129aba01",
   "metadata": {},
   "outputs": [],
   "source": [
    "embeddings_1 = [e for e in default_ef(in_pp_1)]"
   ]
  },
  {
   "cell_type": "code",
   "execution_count": null,
   "id": "1f7cb612",
   "metadata": {},
   "outputs": [],
   "source": [
    "import numpy as np\n",
    "emb_array_1 = np.stack(embeddings_1)\n",
    "print(emb_array_1.shape)"
   ]
  },
  {
   "cell_type": "code",
   "execution_count": null,
   "id": "0ed4b12b",
   "metadata": {},
   "outputs": [],
   "source": [
    "import numpy as np\n",
    "embeddings_2 = [e for e in default_ef(in_pp_2)]\n",
    "emb_array_2 = np.stack(embeddings_2)\n",
    "print(emb_array_2.shape)"
   ]
  },
  {
   "cell_type": "markdown",
   "id": "36159209",
   "metadata": {},
   "source": [
    "- Take the average embedding across the 3 word embeddings \n",
    "- You'll get a single embedding of length 768."
   ]
  },
  {
   "cell_type": "code",
   "execution_count": null,
   "id": "d64ce8fb",
   "metadata": {},
   "outputs": [],
   "source": [
    "emb_1_mean = emb_array_1.mean(axis = 0) \n",
    "print(emb_1_mean.shape)"
   ]
  },
  {
   "cell_type": "code",
   "execution_count": null,
   "id": "50127e67",
   "metadata": {},
   "outputs": [],
   "source": [
    "emb_2_mean = emb_array_2.mean(axis = 0)"
   ]
  },
  {
   "cell_type": "code",
   "execution_count": null,
   "id": "3553e92f",
   "metadata": {},
   "outputs": [],
   "source": [
    "print(emb_1_mean[:4])\n",
    "print(emb_2_mean[:4])"
   ]
  },
  {
   "cell_type": "markdown",
   "id": "00407bb0",
   "metadata": {},
   "source": [
    "#### Get sentence embeddings from the model.\n",
    "- These sentence embeddings account for word order and context.\n",
    "- Verify that the sentence embeddings are not the same."
   ]
  },
  {
   "cell_type": "code",
   "execution_count": null,
   "id": "58d3ac99",
   "metadata": {},
   "outputs": [],
   "source": [
    "print(in_1)\n",
    "print(in_2)"
   ]
  },
  {
   "cell_type": "code",
   "execution_count": null,
   "id": "f2d2dde0",
   "metadata": {},
   "outputs": [],
   "source": [
    "embedding_1 = default_ef([in_1])\n",
    "embedding_2 = default_ef([in_2])"
   ]
  },
  {
   "cell_type": "code",
   "execution_count": null,
   "id": "27bfad90",
   "metadata": {},
   "outputs": [],
   "source": [
    "vector_1 = embedding_1[0]\n",
    "print(vector_1[:4])\n",
    "vector_2 = embedding_2[0]\n",
    "print(vector_2[:4])"
   ]
  },
  {
   "cell_type": "code",
   "execution_count": null,
   "id": "fd95bfba",
   "metadata": {},
   "outputs": [],
   "source": []
  }
 ],
 "metadata": {
  "kernelspec": {
   "display_name": "Python 3",
   "language": "python",
   "name": "python3"
  },
  "language_info": {
   "codemirror_mode": {
    "name": "ipython",
    "version": 3
   },
   "file_extension": ".py",
   "mimetype": "text/x-python",
   "name": "python",
   "nbconvert_exporter": "python",
   "pygments_lexer": "ipython3",
   "version": "3.9.12"
  }
 },
 "nbformat": 4,
 "nbformat_minor": 5
}
